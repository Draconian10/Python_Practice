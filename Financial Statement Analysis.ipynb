{
 "cells": [
  {
   "cell_type": "code",
   "execution_count": 138,
   "metadata": {},
   "outputs": [],
   "source": [
    "#Data \n",
    "revenue = [14574.49, 7606.46, 8611.41, 9175.41, 8058.65, 8105.44, 11496.28, 9766.09, 10305.32, 14379.96, 10713.97, 15433.50]\n",
    "expenses = [12051.82, 5695.07, 12319.20, 12089.72, 8658.57, 840.20, 3285.73, 5821.12, 6976.93, 16618.61, 10054.37, 3803.96]"
   ]
  },
  {
   "cell_type": "code",
   "execution_count": 139,
   "metadata": {},
   "outputs": [],
   "source": [
    "profit = []\n",
    "prof_after_tax = []\n",
    "margin = []\n",
    "good = []\n",
    "bad = []\n",
    "best = []\n",
    "worst = []\n",
    "for i in range(0,12):\n",
    "    a = revenue[i] - expenses [i]\n",
    "    b = a - ((revenue[i] - expenses[i]) * 0.3)\n",
    "    c = round(b / revenue[i] * 100, 2)\n",
    "    \n",
    "    '''a = round(a/1000,2)\n",
    "    b = round(b/1000,2)\n",
    "    profit.append(int(a))\n",
    "    profit.append(int(b))'''\n",
    "    \n",
    "    profit.append(a)\n",
    "    prof_after_tax.append(b)\n",
    "    margin.append(c)\n",
    "\n",
    "mean = sum(prof_after_tax) / len(prof_after_tax)\n",
    "\n",
    "'''for i in range(0,12):\n",
    "    if prof_after_tax[i] > mean:\n",
    "        good.append(prof_after_tax[i])\n",
    "    else:\n",
    "        bad.append(prof_after_tax[i])\n",
    "best.append(max(good))\n",
    "worst.append(min(bad))'''\n",
    "\n",
    "for i in range(0, len(profit)):\n",
    "    good.append(prof_after_tax[i] > mean)\n",
    "    bad.append(prof_after_tax[i] < mean)\n",
    "    best.append(prof_after_tax[i] == max(prof_after_tax))\n",
    "    worst.append(prof_after_tax[i] == min(prof_after_tax))"
   ]
  },
  {
   "cell_type": "code",
   "execution_count": 140,
   "metadata": {},
   "outputs": [],
   "source": [
    "rev = [round(i/1000,2) for i in revenue]\n",
    "exp = [round(i/1000,2) for i in expenses]\n",
    "prof = [round(i/1000,2) for i in profit]\n",
    "pat = [round(i/1000,2) for i in prof_after_tax]\n",
    "\n",
    "rev = [int(i) for i in rev]\n",
    "exp = [int(i) for i in exp]\n",
    "prof = [int(i) for i in prof]\n",
    "pat = [int(i) for i in pat]"
   ]
  },
  {
   "cell_type": "code",
   "execution_count": 141,
   "metadata": {},
   "outputs": [
    {
     "name": "stdout",
     "output_type": "stream",
     "text": [
      "REVENUE :\n",
      "[14, 7, 8, 9, 8, 8, 11, 9, 10, 14, 10, 15]\n",
      "EXPENSES :\n",
      "[12, 5, 12, 12, 8, 0, 3, 5, 6, 16, 10, 3]\n",
      "PROFIT :\n",
      "[2, 1, -3, -2, 0, 7, 8, 3, 3, -2, 0, 11]\n",
      "PROFIT AFTER TAX :\n",
      "[1, 1, -2, -2, 0, 5, 5, 2, 2, -1, 0, 8]\n",
      "GOOD MONTHS :\n",
      "[True, False, False, False, False, True, True, True, True, False, False, True]\n",
      "BAD MONTHS :\n",
      "[False, True, True, True, True, False, False, False, False, True, True, False]\n",
      "BEST MONTH :\n",
      "[False, False, False, False, False, False, False, False, False, False, False, True]\n",
      "WORST MONTH :\n",
      "[False, False, True, False, False, False, False, False, False, False, False, False]\n"
     ]
    }
   ],
   "source": [
    "print('REVENUE :')\n",
    "print(rev)\n",
    "print('EXPENSES :')\n",
    "print(exp)\n",
    "print('PROFIT :')\n",
    "print(prof)\n",
    "print('PROFIT AFTER TAX :')\n",
    "print(pat)\n",
    "print('GOOD MONTHS :')\n",
    "print(good)\n",
    "print('BAD MONTHS :')\n",
    "print(bad)\n",
    "print('BEST MONTH :')\n",
    "print(best)\n",
    "print('WORST MONTH :')\n",
    "print(worst)"
   ]
  },
  {
   "cell_type": "code",
   "execution_count": 142,
   "metadata": {},
   "outputs": [
    {
     "data": {
      "text/plain": [
       "[2522.67,\n",
       " 1911.3900000000003,\n",
       " -3707.790000000001,\n",
       " -2914.3099999999995,\n",
       " -599.9200000000001,\n",
       " 7265.24,\n",
       " 8210.550000000001,\n",
       " 3944.9700000000003,\n",
       " 3328.3899999999994,\n",
       " -2238.6500000000015,\n",
       " 659.5999999999985,\n",
       " 11629.54]"
      ]
     },
     "execution_count": 142,
     "metadata": {},
     "output_type": "execute_result"
    }
   ],
   "source": [
    "profit"
   ]
  },
  {
   "cell_type": "code",
   "execution_count": 143,
   "metadata": {},
   "outputs": [
    {
     "data": {
      "text/plain": [
       "[1765.8690000000001,\n",
       " 1337.9730000000004,\n",
       " -2595.4530000000004,\n",
       " -2040.0169999999998,\n",
       " -419.9440000000001,\n",
       " 5085.668,\n",
       " 5747.385,\n",
       " 2761.4790000000003,\n",
       " 2329.8729999999996,\n",
       " -1567.0550000000012,\n",
       " 461.719999999999,\n",
       " 8140.678000000001]"
      ]
     },
     "execution_count": 143,
     "metadata": {},
     "output_type": "execute_result"
    }
   ],
   "source": [
    "prof_after_tax"
   ]
  },
  {
   "cell_type": "code",
   "execution_count": 144,
   "metadata": {},
   "outputs": [
    {
     "data": {
      "text/plain": [
       "[12.12,\n",
       " 17.59,\n",
       " -30.14,\n",
       " -22.23,\n",
       " -5.21,\n",
       " 62.74,\n",
       " 49.99,\n",
       " 28.28,\n",
       " 22.61,\n",
       " -10.9,\n",
       " 4.31,\n",
       " 52.75]"
      ]
     },
     "execution_count": 144,
     "metadata": {},
     "output_type": "execute_result"
    }
   ],
   "source": [
    "margin"
   ]
  },
  {
   "cell_type": "code",
   "execution_count": 145,
   "metadata": {},
   "outputs": [
    {
     "data": {
      "text/plain": [
       "[True, False, False, False, False, True, True, True, True, False, False, True]"
      ]
     },
     "execution_count": 145,
     "metadata": {},
     "output_type": "execute_result"
    }
   ],
   "source": [
    "good"
   ]
  },
  {
   "cell_type": "code",
   "execution_count": 146,
   "metadata": {},
   "outputs": [
    {
     "data": {
      "text/plain": [
       "[False, True, True, True, True, False, False, False, False, True, True, False]"
      ]
     },
     "execution_count": 146,
     "metadata": {},
     "output_type": "execute_result"
    }
   ],
   "source": [
    "bad"
   ]
  },
  {
   "cell_type": "code",
   "execution_count": 147,
   "metadata": {},
   "outputs": [
    {
     "data": {
      "text/plain": [
       "[False,\n",
       " False,\n",
       " False,\n",
       " False,\n",
       " False,\n",
       " False,\n",
       " False,\n",
       " False,\n",
       " False,\n",
       " False,\n",
       " False,\n",
       " True]"
      ]
     },
     "execution_count": 147,
     "metadata": {},
     "output_type": "execute_result"
    }
   ],
   "source": [
    "best"
   ]
  },
  {
   "cell_type": "code",
   "execution_count": 148,
   "metadata": {},
   "outputs": [
    {
     "data": {
      "text/plain": [
       "[False,\n",
       " False,\n",
       " True,\n",
       " False,\n",
       " False,\n",
       " False,\n",
       " False,\n",
       " False,\n",
       " False,\n",
       " False,\n",
       " False,\n",
       " False]"
      ]
     },
     "execution_count": 148,
     "metadata": {},
     "output_type": "execute_result"
    }
   ],
   "source": [
    "worst"
   ]
  }
 ],
 "metadata": {
  "kernelspec": {
   "display_name": "Python 3",
   "language": "python",
   "name": "python3"
  },
  "language_info": {
   "codemirror_mode": {
    "name": "ipython",
    "version": 3
   },
   "file_extension": ".py",
   "mimetype": "text/x-python",
   "name": "python",
   "nbconvert_exporter": "python",
   "pygments_lexer": "ipython3",
   "version": "3.7.6"
  }
 },
 "nbformat": 4,
 "nbformat_minor": 4
}
